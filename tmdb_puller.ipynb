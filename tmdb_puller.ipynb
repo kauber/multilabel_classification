{
 "cells": [
  {
   "cell_type": "code",
   "execution_count": 1,
   "id": "8afdb1bc-5c66-4d0d-b1b3-297575cbf353",
   "metadata": {},
   "outputs": [],
   "source": [
    "import requests\n",
    "import pandas as pd"
   ]
  },
  {
   "cell_type": "code",
   "execution_count": 2,
   "id": "f5f7b881-d9bf-4e33-8f29-228e372c8acd",
   "metadata": {},
   "outputs": [],
   "source": [
    "# Your TMDB API Key\n",
    "API_KEY = \"\""
   ]
  },
  {
   "cell_type": "code",
   "execution_count": 3,
   "id": "42810900-033a-4ccf-960d-9e285cdb8ce1",
   "metadata": {},
   "outputs": [],
   "source": [
    "# TMDB URLs\n",
    "GENRE_LIST_URL = \"https://api.themoviedb.org/3/genre/movie/list?api_key={}&language=en-US\".format(API_KEY)\n",
    "DISCOVER_URL = \"https://api.themoviedb.org/3/discover/movie?api_key={}\".format(API_KEY)"
   ]
  },
  {
   "cell_type": "code",
   "execution_count": null,
   "id": "f021eeb3-3a37-4415-9177-9e0ac823701d",
   "metadata": {},
   "outputs": [],
   "source": [
    "# # check available genres\n",
    "\n",
    "# params = {\n",
    "#     'api_key': API_KEY,\n",
    "#     'language': 'en-US'\n",
    "# }\n",
    "\n",
    "# response = requests.get(GENRE_LIST_URL, params=params).json()\n",
    "# all_genres = {genre['id']: genre['name'] for genre in response['genres']}\n",
    "\n",
    "# print(all_genres)"
   ]
  },
  {
   "cell_type": "code",
   "execution_count": 4,
   "id": "8f769ccf-46c3-4df2-9099-dac2bafbbd94",
   "metadata": {},
   "outputs": [],
   "source": [
    "# Fetch genre IDs for your desired genres (you can modify this list as needed)\n",
    "desired_genres = [\"Action\", \"Comedy\", \"Drama\", \"Horror\", \"Thriller\", \"Adventure\", \"Romance\", \"Science Fiction\"]\n",
    "genre_response = requests.get(GENRE_LIST_URL).json()\n",
    "genre_ids = [genre['id'] for genre in genre_response['genres'] if genre['name'] in desired_genres]\n",
    "\n"
   ]
  },
  {
   "cell_type": "code",
   "execution_count": 5,
   "id": "8a35a135-4534-41fd-b9df-db64fda84a1a",
   "metadata": {},
   "outputs": [],
   "source": [
    "import time\n",
    "\n",
    "# Construct a genre mapping from ID to name\n",
    "genre_map = {genre['id']: genre['name'] for genre in genre_response['genres'] if genre['name'] in desired_genres}\n",
    "\n",
    "# Fetch movies for each genre\n",
    "movies = []\n",
    "seen_movie_ids = set()  # Maintain a set of seen movie IDs to avoid duplicates\n",
    "\n",
    "for genre_id in genre_ids:\n",
    "    for page in range(1, 300):  # We take 49 pages for each genre\n",
    "        payload = {\n",
    "            'with_genres': genre_id,\n",
    "            'language': 'en-US',\n",
    "            'sort_by': 'popularity.desc',\n",
    "            'page': page\n",
    "        }\n",
    "        response = requests.get(DISCOVER_URL, params=payload).json()\n",
    "        for movie in response['results']:\n",
    "            # If the movie ID is already seen, skip it\n",
    "            if movie['id'] in seen_movie_ids:\n",
    "                continue\n",
    "            \n",
    "            # Otherwise, add its ID to the set and append its details to the movies list\n",
    "            seen_movie_ids.add(movie['id'])\n",
    "            \n",
    "            movie_data = (\n",
    "                movie['title'],\n",
    "                movie['overview'],  # Extracting the synopsis/overview\n",
    "                [genre_map[genre] for genre in movie['genre_ids'] if genre in genre_ids]\n",
    "            )\n",
    "            movies.append(movie_data)\n",
    "        \n",
    "        # Introduce a delay of 2 seconds between consecutive requests\n",
    "        #time.sleep(2)\n",
    "\n"
   ]
  },
  {
   "cell_type": "code",
   "execution_count": 6,
   "id": "3b3c49ff-6ead-45ca-aa98-f97190ef57de",
   "metadata": {},
   "outputs": [
    {
     "name": "stdout",
     "output_type": "stream",
     "text": [
      "30505\n"
     ]
    }
   ],
   "source": [
    "print(len(movies))"
   ]
  },
  {
   "cell_type": "code",
   "execution_count": 7,
   "id": "88cec24a-2209-4ccc-9c66-39d8a5ae1904",
   "metadata": {},
   "outputs": [],
   "source": [
    "# # Print the results\n",
    "# for movie in movies:\n",
    "#     print(movie[0], \"-\", movie[1])"
   ]
  },
  {
   "cell_type": "code",
   "execution_count": 45,
   "id": "387a7707-a230-47b5-a10a-60896871e903",
   "metadata": {},
   "outputs": [],
   "source": [
    "movies_df = pd.DataFrame(movies, columns = ['title', 'synopsis','genre'])"
   ]
  },
  {
   "cell_type": "code",
   "execution_count": 46,
   "id": "3b9e64dc-b455-47d0-b9c2-3d555a304072",
   "metadata": {},
   "outputs": [],
   "source": [
    "movies_df = movies_df[movies_df.synopsis!='']"
   ]
  },
  {
   "cell_type": "code",
   "execution_count": 47,
   "id": "febb3206-d644-4b57-9be3-eaaf2bb55f9b",
   "metadata": {},
   "outputs": [
    {
     "data": {
      "text/html": [
       "<div>\n",
       "<style scoped>\n",
       "    .dataframe tbody tr th:only-of-type {\n",
       "        vertical-align: middle;\n",
       "    }\n",
       "\n",
       "    .dataframe tbody tr th {\n",
       "        vertical-align: top;\n",
       "    }\n",
       "\n",
       "    .dataframe thead th {\n",
       "        text-align: right;\n",
       "    }\n",
       "</style>\n",
       "<table border=\"1\" class=\"dataframe\">\n",
       "  <thead>\n",
       "    <tr style=\"text-align: right;\">\n",
       "      <th></th>\n",
       "      <th>title</th>\n",
       "      <th>synopsis</th>\n",
       "      <th>genre</th>\n",
       "    </tr>\n",
       "  </thead>\n",
       "  <tbody>\n",
       "    <tr>\n",
       "      <th>0</th>\n",
       "      <td>Expend4bles</td>\n",
       "      <td>Armed with every weapon they can get their han...</td>\n",
       "      <td>[Action, Adventure, Thriller]</td>\n",
       "    </tr>\n",
       "    <tr>\n",
       "      <th>1</th>\n",
       "      <td>Mission: Impossible - Dead Reckoning Part One</td>\n",
       "      <td>Ethan Hunt and his IMF team embark on their mo...</td>\n",
       "      <td>[Action, Thriller]</td>\n",
       "    </tr>\n",
       "    <tr>\n",
       "      <th>2</th>\n",
       "      <td>The Equalizer 3</td>\n",
       "      <td>Robert McCall finds himself at home in Souther...</td>\n",
       "      <td>[Action, Thriller]</td>\n",
       "    </tr>\n",
       "    <tr>\n",
       "      <th>3</th>\n",
       "      <td>Mortal Kombat Legends: Cage Match</td>\n",
       "      <td>In 1980s Hollywood, action star Johnny Cage is...</td>\n",
       "      <td>[Action]</td>\n",
       "    </tr>\n",
       "    <tr>\n",
       "      <th>4</th>\n",
       "      <td>Desperation Road</td>\n",
       "      <td>After 11 years in a Mississippi state prison, ...</td>\n",
       "      <td>[Action, Drama, Thriller]</td>\n",
       "    </tr>\n",
       "  </tbody>\n",
       "</table>\n",
       "</div>"
      ],
      "text/plain": [
       "                                           title  \\\n",
       "0                                    Expend4bles   \n",
       "1  Mission: Impossible - Dead Reckoning Part One   \n",
       "2                                The Equalizer 3   \n",
       "3              Mortal Kombat Legends: Cage Match   \n",
       "4                               Desperation Road   \n",
       "\n",
       "                                            synopsis  \\\n",
       "0  Armed with every weapon they can get their han...   \n",
       "1  Ethan Hunt and his IMF team embark on their mo...   \n",
       "2  Robert McCall finds himself at home in Souther...   \n",
       "3  In 1980s Hollywood, action star Johnny Cage is...   \n",
       "4  After 11 years in a Mississippi state prison, ...   \n",
       "\n",
       "                           genre  \n",
       "0  [Action, Adventure, Thriller]  \n",
       "1             [Action, Thriller]  \n",
       "2             [Action, Thriller]  \n",
       "3                       [Action]  \n",
       "4      [Action, Drama, Thriller]  "
      ]
     },
     "execution_count": 47,
     "metadata": {},
     "output_type": "execute_result"
    }
   ],
   "source": [
    "movies_df.head()"
   ]
  },
  {
   "cell_type": "code",
   "execution_count": 48,
   "id": "bca900de-06ce-47e5-babd-ab3b668bab99",
   "metadata": {},
   "outputs": [
    {
     "data": {
      "text/plain": [
       "(30329, 3)"
      ]
     },
     "execution_count": 48,
     "metadata": {},
     "output_type": "execute_result"
    }
   ],
   "source": [
    "movies_df.shape"
   ]
  },
  {
   "cell_type": "code",
   "execution_count": 49,
   "id": "40693249-5afc-49d8-8c6c-e9133210ff80",
   "metadata": {},
   "outputs": [
    {
     "data": {
      "text/plain": [
       "0        3\n",
       "1        2\n",
       "2        2\n",
       "3        1\n",
       "4        3\n",
       "        ..\n",
       "30500    2\n",
       "30501    2\n",
       "30502    2\n",
       "30503    1\n",
       "30504    2\n",
       "Name: genre, Length: 30329, dtype: int64"
      ]
     },
     "execution_count": 49,
     "metadata": {},
     "output_type": "execute_result"
    }
   ],
   "source": [
    "movies_df.genre.apply(len)"
   ]
  },
  {
   "cell_type": "code",
   "execution_count": 50,
   "id": "29d24051-7f51-46e8-a65e-b863992924c1",
   "metadata": {},
   "outputs": [
    {
     "data": {
      "text/plain": [
       "genre\n",
       "[Drama]              1749\n",
       "[Comedy]             1594\n",
       "[Horror]             1571\n",
       "[Adventure]          1016\n",
       "[Thriller]            724\n",
       "[Science Fiction]     615\n",
       "[Action]              595\n",
       "[Romance]             468\n",
       "Name: count, dtype: int64"
      ]
     },
     "execution_count": 50,
     "metadata": {},
     "output_type": "execute_result"
    }
   ],
   "source": [
    "# check count of movies with single genre assigned\n",
    "movies_df[movies_df.genre.apply(len)==1].genre.value_counts()"
   ]
  },
  {
   "cell_type": "code",
   "execution_count": 51,
   "id": "9f24100b-9008-44bc-b48f-bd6b593c1e8a",
   "metadata": {},
   "outputs": [],
   "source": [
    "my_movies = movies_df.copy()"
   ]
  },
  {
   "cell_type": "code",
   "execution_count": 52,
   "id": "cd446538-3b64-4fd8-a88f-f790f254c1a5",
   "metadata": {},
   "outputs": [],
   "source": [
    "#movies_df.to_csv('movies_df.csv',index=False)"
   ]
  },
  {
   "cell_type": "markdown",
   "id": "042bd6c6-ae16-49a4-a1a6-d5af87ff61a6",
   "metadata": {},
   "source": [
    "# convert in a format suitable for multilabel classification"
   ]
  },
  {
   "cell_type": "code",
   "execution_count": 53,
   "id": "21e3d856-9ce4-4425-9ebc-9ae64a39d79f",
   "metadata": {},
   "outputs": [
    {
     "data": {
      "text/html": [
       "<div>\n",
       "<style scoped>\n",
       "    .dataframe tbody tr th:only-of-type {\n",
       "        vertical-align: middle;\n",
       "    }\n",
       "\n",
       "    .dataframe tbody tr th {\n",
       "        vertical-align: top;\n",
       "    }\n",
       "\n",
       "    .dataframe thead th {\n",
       "        text-align: right;\n",
       "    }\n",
       "</style>\n",
       "<table border=\"1\" class=\"dataframe\">\n",
       "  <thead>\n",
       "    <tr style=\"text-align: right;\">\n",
       "      <th></th>\n",
       "      <th>title</th>\n",
       "      <th>synopsis</th>\n",
       "      <th>genre</th>\n",
       "    </tr>\n",
       "  </thead>\n",
       "  <tbody>\n",
       "    <tr>\n",
       "      <th>5376</th>\n",
       "      <td>Goodnight for Justice: The Measure of a Man</td>\n",
       "      <td>The story of John Goodnight continues.  Travel...</td>\n",
       "      <td>[Action]</td>\n",
       "    </tr>\n",
       "    <tr>\n",
       "      <th>13516</th>\n",
       "      <td>Latter Days</td>\n",
       "      <td>Christian, a hunky, 20-something, West Hollywo...</td>\n",
       "      <td>[Drama, Comedy, Romance]</td>\n",
       "    </tr>\n",
       "    <tr>\n",
       "      <th>1126</th>\n",
       "      <td>Hackers</td>\n",
       "      <td>Along with his new friends, a teenager who was...</td>\n",
       "      <td>[Action, Thriller, Drama]</td>\n",
       "    </tr>\n",
       "    <tr>\n",
       "      <th>8537</th>\n",
       "      <td>The Castle of Fu Manchu</td>\n",
       "      <td>The evil mastermind Fu Manchu plots his latest...</td>\n",
       "      <td>[Adventure]</td>\n",
       "    </tr>\n",
       "    <tr>\n",
       "      <th>9350</th>\n",
       "      <td>Samurai Wolf</td>\n",
       "      <td>This is the story of a vagrant samurai – the s...</td>\n",
       "      <td>[Action, Adventure, Drama]</td>\n",
       "    </tr>\n",
       "  </tbody>\n",
       "</table>\n",
       "</div>"
      ],
      "text/plain": [
       "                                             title  \\\n",
       "5376   Goodnight for Justice: The Measure of a Man   \n",
       "13516                                  Latter Days   \n",
       "1126                                       Hackers   \n",
       "8537                       The Castle of Fu Manchu   \n",
       "9350                                  Samurai Wolf   \n",
       "\n",
       "                                                synopsis  \\\n",
       "5376   The story of John Goodnight continues.  Travel...   \n",
       "13516  Christian, a hunky, 20-something, West Hollywo...   \n",
       "1126   Along with his new friends, a teenager who was...   \n",
       "8537   The evil mastermind Fu Manchu plots his latest...   \n",
       "9350   This is the story of a vagrant samurai – the s...   \n",
       "\n",
       "                            genre  \n",
       "5376                     [Action]  \n",
       "13516    [Drama, Comedy, Romance]  \n",
       "1126    [Action, Thriller, Drama]  \n",
       "8537                  [Adventure]  \n",
       "9350   [Action, Adventure, Drama]  "
      ]
     },
     "execution_count": 53,
     "metadata": {},
     "output_type": "execute_result"
    }
   ],
   "source": [
    "my_movies.sample(5)"
   ]
  },
  {
   "cell_type": "code",
   "execution_count": 54,
   "id": "3c0cf8d4-30dd-41dc-bdea-29352fbfb995",
   "metadata": {},
   "outputs": [
    {
     "data": {
      "text/plain": [
       "genre\n",
       "[Drama]                      1749\n",
       "[Drama, Romance]             1626\n",
       "[Comedy]                     1594\n",
       "[Horror]                     1571\n",
       "[Horror, Thriller]           1087\n",
       "[Adventure]                  1016\n",
       "[Comedy, Romance]            1007\n",
       "[Drama, Thriller]             866\n",
       "[Thriller]                    724\n",
       "[Action, Thriller]            656\n",
       "[Comedy, Drama]               629\n",
       "[Science Fiction]             615\n",
       "[Action]                      595\n",
       "[Comedy, Drama, Romance]      534\n",
       "[Action, Adventure]           526\n",
       "[Adventure, Comedy]           482\n",
       "[Horror, Science Fiction]     482\n",
       "[Romance, Drama]              482\n",
       "[Romance]                     468\n",
       "[Action, Science Fiction]     415\n",
       "Name: count, dtype: int64"
      ]
     },
     "execution_count": 54,
     "metadata": {},
     "output_type": "execute_result"
    }
   ],
   "source": [
    "my_movies.genre.value_counts()[:20]"
   ]
  },
  {
   "cell_type": "code",
   "execution_count": 55,
   "id": "11b56b23-1be8-44f4-b017-5db342cf3dc4",
   "metadata": {},
   "outputs": [],
   "source": [
    "all_genres = set(x for sublist in my_movies['genre'].tolist() for x in sublist)"
   ]
  },
  {
   "cell_type": "code",
   "execution_count": 56,
   "id": "ef7337e3-b916-4b26-92ee-ff4b583c7da5",
   "metadata": {},
   "outputs": [
    {
     "data": {
      "text/plain": [
       "{'Action',\n",
       " 'Adventure',\n",
       " 'Comedy',\n",
       " 'Drama',\n",
       " 'Horror',\n",
       " 'Romance',\n",
       " 'Science Fiction',\n",
       " 'Thriller'}"
      ]
     },
     "execution_count": 56,
     "metadata": {},
     "output_type": "execute_result"
    }
   ],
   "source": [
    "all_genres"
   ]
  },
  {
   "cell_type": "code",
   "execution_count": 57,
   "id": "d86955bb-dca3-4236-b40a-48bedb774538",
   "metadata": {},
   "outputs": [],
   "source": [
    "# One-hot encoding\n",
    "for genre in all_genres:\n",
    "    my_movies[genre] = my_movies['genre'].apply(lambda x: 1 if genre in x else 0)"
   ]
  },
  {
   "cell_type": "code",
   "execution_count": 58,
   "id": "5fabc904-0a18-401b-b8d2-96c5f2cd41c1",
   "metadata": {},
   "outputs": [],
   "source": [
    "# Drop the Movie_genre column if needed\n",
    "my_movies = my_movies.drop('genre', axis=1)"
   ]
  },
  {
   "cell_type": "code",
   "execution_count": 59,
   "id": "9a8bd90e-b34b-409e-9f28-9313ced57fab",
   "metadata": {},
   "outputs": [
    {
     "data": {
      "text/plain": [
       "Adventure           6085\n",
       "Action              7838\n",
       "Romance             6286\n",
       "Thriller            7557\n",
       "Drama              11413\n",
       "Horror              6605\n",
       "Science Fiction     5937\n",
       "Comedy              9025\n",
       "dtype: int64"
      ]
     },
     "execution_count": 59,
     "metadata": {},
     "output_type": "execute_result"
    }
   ],
   "source": [
    "my_movies.iloc[:,2:].sum()"
   ]
  },
  {
   "cell_type": "code",
   "execution_count": 60,
   "id": "bdcf0afa-953d-4e2c-982b-c9d8a1ab6ef4",
   "metadata": {},
   "outputs": [
    {
     "data": {
      "text/html": [
       "<div>\n",
       "<style scoped>\n",
       "    .dataframe tbody tr th:only-of-type {\n",
       "        vertical-align: middle;\n",
       "    }\n",
       "\n",
       "    .dataframe tbody tr th {\n",
       "        vertical-align: top;\n",
       "    }\n",
       "\n",
       "    .dataframe thead th {\n",
       "        text-align: right;\n",
       "    }\n",
       "</style>\n",
       "<table border=\"1\" class=\"dataframe\">\n",
       "  <thead>\n",
       "    <tr style=\"text-align: right;\">\n",
       "      <th></th>\n",
       "      <th>title</th>\n",
       "      <th>synopsis</th>\n",
       "      <th>Adventure</th>\n",
       "      <th>Action</th>\n",
       "      <th>Romance</th>\n",
       "      <th>Thriller</th>\n",
       "      <th>Drama</th>\n",
       "      <th>Horror</th>\n",
       "      <th>Science Fiction</th>\n",
       "      <th>Comedy</th>\n",
       "    </tr>\n",
       "  </thead>\n",
       "  <tbody>\n",
       "    <tr>\n",
       "      <th>0</th>\n",
       "      <td>Expend4bles</td>\n",
       "      <td>Armed with every weapon they can get their han...</td>\n",
       "      <td>1</td>\n",
       "      <td>1</td>\n",
       "      <td>0</td>\n",
       "      <td>1</td>\n",
       "      <td>0</td>\n",
       "      <td>0</td>\n",
       "      <td>0</td>\n",
       "      <td>0</td>\n",
       "    </tr>\n",
       "    <tr>\n",
       "      <th>1</th>\n",
       "      <td>Mission: Impossible - Dead Reckoning Part One</td>\n",
       "      <td>Ethan Hunt and his IMF team embark on their mo...</td>\n",
       "      <td>0</td>\n",
       "      <td>1</td>\n",
       "      <td>0</td>\n",
       "      <td>1</td>\n",
       "      <td>0</td>\n",
       "      <td>0</td>\n",
       "      <td>0</td>\n",
       "      <td>0</td>\n",
       "    </tr>\n",
       "    <tr>\n",
       "      <th>2</th>\n",
       "      <td>The Equalizer 3</td>\n",
       "      <td>Robert McCall finds himself at home in Souther...</td>\n",
       "      <td>0</td>\n",
       "      <td>1</td>\n",
       "      <td>0</td>\n",
       "      <td>1</td>\n",
       "      <td>0</td>\n",
       "      <td>0</td>\n",
       "      <td>0</td>\n",
       "      <td>0</td>\n",
       "    </tr>\n",
       "    <tr>\n",
       "      <th>3</th>\n",
       "      <td>Mortal Kombat Legends: Cage Match</td>\n",
       "      <td>In 1980s Hollywood, action star Johnny Cage is...</td>\n",
       "      <td>0</td>\n",
       "      <td>1</td>\n",
       "      <td>0</td>\n",
       "      <td>0</td>\n",
       "      <td>0</td>\n",
       "      <td>0</td>\n",
       "      <td>0</td>\n",
       "      <td>0</td>\n",
       "    </tr>\n",
       "    <tr>\n",
       "      <th>4</th>\n",
       "      <td>Desperation Road</td>\n",
       "      <td>After 11 years in a Mississippi state prison, ...</td>\n",
       "      <td>0</td>\n",
       "      <td>1</td>\n",
       "      <td>0</td>\n",
       "      <td>1</td>\n",
       "      <td>1</td>\n",
       "      <td>0</td>\n",
       "      <td>0</td>\n",
       "      <td>0</td>\n",
       "    </tr>\n",
       "  </tbody>\n",
       "</table>\n",
       "</div>"
      ],
      "text/plain": [
       "                                           title  \\\n",
       "0                                    Expend4bles   \n",
       "1  Mission: Impossible - Dead Reckoning Part One   \n",
       "2                                The Equalizer 3   \n",
       "3              Mortal Kombat Legends: Cage Match   \n",
       "4                               Desperation Road   \n",
       "\n",
       "                                            synopsis  Adventure  Action  \\\n",
       "0  Armed with every weapon they can get their han...          1       1   \n",
       "1  Ethan Hunt and his IMF team embark on their mo...          0       1   \n",
       "2  Robert McCall finds himself at home in Souther...          0       1   \n",
       "3  In 1980s Hollywood, action star Johnny Cage is...          0       1   \n",
       "4  After 11 years in a Mississippi state prison, ...          0       1   \n",
       "\n",
       "   Romance  Thriller  Drama  Horror  Science Fiction  Comedy  \n",
       "0        0         1      0       0                0       0  \n",
       "1        0         1      0       0                0       0  \n",
       "2        0         1      0       0                0       0  \n",
       "3        0         0      0       0                0       0  \n",
       "4        0         1      1       0                0       0  "
      ]
     },
     "execution_count": 60,
     "metadata": {},
     "output_type": "execute_result"
    }
   ],
   "source": [
    "my_movies.head()"
   ]
  },
  {
   "cell_type": "code",
   "execution_count": 61,
   "id": "2807d836-bea7-4488-abeb-55b0e7c8db46",
   "metadata": {},
   "outputs": [],
   "source": [
    "my_movies.reset_index(drop=True,inplace=True)"
   ]
  },
  {
   "cell_type": "code",
   "execution_count": 62,
   "id": "ed34901e-a416-4285-b16e-a7254bac431f",
   "metadata": {},
   "outputs": [],
   "source": [
    "my_movies.to_csv('movies_df.csv',index=False)"
   ]
  },
  {
   "cell_type": "code",
   "execution_count": 63,
   "id": "f4a5eba0-47fe-4da8-b71c-e83d73bf5b37",
   "metadata": {},
   "outputs": [],
   "source": [
    "#movies_df = movies_df.drop('title',axis=1)"
   ]
  },
  {
   "cell_type": "code",
   "execution_count": 64,
   "id": "2ec92500-6ddb-44fa-ba7b-9fa26ce7c3f4",
   "metadata": {},
   "outputs": [],
   "source": [
    "new_df = pd.DataFrame()\n",
    "new_df['title'] = movies_df['title']\n",
    "new_df['synopsis'] = movies_df['synopsis']\n",
    "new_df['labels'] = movies_df.iloc[:, 2:].values.tolist()"
   ]
  },
  {
   "cell_type": "code",
   "execution_count": 65,
   "id": "5a4525d0-d084-4ea4-866f-7e932f47a3ac",
   "metadata": {},
   "outputs": [
    {
     "data": {
      "text/html": [
       "<div>\n",
       "<style scoped>\n",
       "    .dataframe tbody tr th:only-of-type {\n",
       "        vertical-align: middle;\n",
       "    }\n",
       "\n",
       "    .dataframe tbody tr th {\n",
       "        vertical-align: top;\n",
       "    }\n",
       "\n",
       "    .dataframe thead th {\n",
       "        text-align: right;\n",
       "    }\n",
       "</style>\n",
       "<table border=\"1\" class=\"dataframe\">\n",
       "  <thead>\n",
       "    <tr style=\"text-align: right;\">\n",
       "      <th></th>\n",
       "      <th>title</th>\n",
       "      <th>synopsis</th>\n",
       "      <th>labels</th>\n",
       "    </tr>\n",
       "  </thead>\n",
       "  <tbody>\n",
       "    <tr>\n",
       "      <th>0</th>\n",
       "      <td>Expend4bles</td>\n",
       "      <td>Armed with every weapon they can get their han...</td>\n",
       "      <td>[[Action, Adventure, Thriller]]</td>\n",
       "    </tr>\n",
       "    <tr>\n",
       "      <th>1</th>\n",
       "      <td>Mission: Impossible - Dead Reckoning Part One</td>\n",
       "      <td>Ethan Hunt and his IMF team embark on their mo...</td>\n",
       "      <td>[[Action, Thriller]]</td>\n",
       "    </tr>\n",
       "    <tr>\n",
       "      <th>2</th>\n",
       "      <td>The Equalizer 3</td>\n",
       "      <td>Robert McCall finds himself at home in Souther...</td>\n",
       "      <td>[[Action, Thriller]]</td>\n",
       "    </tr>\n",
       "    <tr>\n",
       "      <th>3</th>\n",
       "      <td>Mortal Kombat Legends: Cage Match</td>\n",
       "      <td>In 1980s Hollywood, action star Johnny Cage is...</td>\n",
       "      <td>[[Action]]</td>\n",
       "    </tr>\n",
       "    <tr>\n",
       "      <th>4</th>\n",
       "      <td>Desperation Road</td>\n",
       "      <td>After 11 years in a Mississippi state prison, ...</td>\n",
       "      <td>[[Action, Drama, Thriller]]</td>\n",
       "    </tr>\n",
       "  </tbody>\n",
       "</table>\n",
       "</div>"
      ],
      "text/plain": [
       "                                           title  \\\n",
       "0                                    Expend4bles   \n",
       "1  Mission: Impossible - Dead Reckoning Part One   \n",
       "2                                The Equalizer 3   \n",
       "3              Mortal Kombat Legends: Cage Match   \n",
       "4                               Desperation Road   \n",
       "\n",
       "                                            synopsis  \\\n",
       "0  Armed with every weapon they can get their han...   \n",
       "1  Ethan Hunt and his IMF team embark on their mo...   \n",
       "2  Robert McCall finds himself at home in Souther...   \n",
       "3  In 1980s Hollywood, action star Johnny Cage is...   \n",
       "4  After 11 years in a Mississippi state prison, ...   \n",
       "\n",
       "                            labels  \n",
       "0  [[Action, Adventure, Thriller]]  \n",
       "1             [[Action, Thriller]]  \n",
       "2             [[Action, Thriller]]  \n",
       "3                       [[Action]]  \n",
       "4      [[Action, Drama, Thriller]]  "
      ]
     },
     "execution_count": 65,
     "metadata": {},
     "output_type": "execute_result"
    }
   ],
   "source": [
    "new_df.head()"
   ]
  },
  {
   "cell_type": "code",
   "execution_count": 66,
   "id": "bb6c82d8-1e9b-45ae-8f57-90501a787c0e",
   "metadata": {},
   "outputs": [],
   "source": [
    "new_df.to_csv('movies.csv',index=False)"
   ]
  },
  {
   "cell_type": "code",
   "execution_count": null,
   "id": "a7748147-0083-4d8d-b99b-782285e132ce",
   "metadata": {},
   "outputs": [],
   "source": []
  }
 ],
 "metadata": {
  "kernelspec": {
   "display_name": "Python 3 (ipykernel)",
   "language": "python",
   "name": "python3"
  },
  "language_info": {
   "codemirror_mode": {
    "name": "ipython",
    "version": 3
   },
   "file_extension": ".py",
   "mimetype": "text/x-python",
   "name": "python",
   "nbconvert_exporter": "python",
   "pygments_lexer": "ipython3",
   "version": "3.10.10"
  }
 },
 "nbformat": 4,
 "nbformat_minor": 5
}
